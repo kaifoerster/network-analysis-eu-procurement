{
  "cells": [
    {
      "cell_type": "markdown",
      "metadata": {
        "id": "0CHg6NcSHoYt"
      },
      "source": [
        "# Installing graph-tool (https://graph-tool.skewed.de)\n",
        "\n",
        "---\n",
        "\n",
        "\n",
        "To import a library that's not in Colaboratory by default, you can use `!apt-get install`.\n",
        "\n",
        "But since graph-tool is not in the official repository, we need to add it to the list."
      ]
    },
    {
      "cell_type": "code",
      "execution_count": null,
      "metadata": {
        "id": "nWlY-PIqHoY1"
      },
      "outputs": [],
      "source": [
        "!echo \"deb http://downloads.skewed.de/apt jammy main\" >> /etc/apt/sources.list\n",
        "!apt-key adv --keyserver keyserver.ubuntu.com --recv-key 612DEFB798507F25\n",
        "!apt-get update\n",
        "!apt-get install python3-graph-tool python3-matplotlib python3-cairo"
      ]
    },
    {
      "cell_type": "code",
      "execution_count": null,
      "metadata": {
        "id": "SRfdbeVqHoY4"
      },
      "outputs": [],
      "source": [
        "# Colab uses a Python install that deviates from the system's! Bad collab! We need some workarounds.\n",
        "!apt purge python3-cairo\n",
        "!apt install libcairo2-dev pkg-config python3-dev\n",
        "!pip install --force-reinstall pycairo\n",
        "!pip install zstandard"
      ]
    },
    {
      "cell_type": "markdown",
      "metadata": {
        "id": "YZvJbYfjHoY6"
      },
      "source": [
        "# Now we can use graph-tool as any other Python module"
      ]
    },
    {
      "cell_type": "code",
      "execution_count": null,
      "metadata": {
        "id": "Rw69us1FHoY6"
      },
      "outputs": [],
      "source": [
        "from graph_tool.all import *\n",
        "\n",
        "g = collection.data[\"celegansneural\"]\n",
        "state = minimize_nested_blockmodel_dl(g)"
      ]
    },
    {
      "cell_type": "markdown",
      "metadata": {
        "id": "K4p2ivB9HoY7"
      },
      "source": [
        "# Inline drawing works too!"
      ]
    },
    {
      "cell_type": "code",
      "execution_count": null,
      "metadata": {
        "id": "WKBMqTGDHoY8"
      },
      "outputs": [],
      "source": [
        "state.draw()"
      ]
    }
  ],
  "metadata": {
    "language_info": {
      "name": "python"
    },
    "colab": {
      "provenance": []
    }
  },
  "nbformat": 4,
  "nbformat_minor": 0
}